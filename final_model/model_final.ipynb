{
 "cells": [
  {
   "cell_type": "code",
   "execution_count": 9,
   "metadata": {},
   "outputs": [],
   "source": [
    "import pandas as pd\n",
    "import numpy as np\n",
    "from sklearn.linear_model import LogisticRegression\n",
    "from sklearn.model_selection import train_test_split\n",
    "from sklearn.tree import DecisionTreeClassifier\n",
    "from sklearn.ensemble import RandomForestClassifier\n",
    "from sklearn.neighbors import KNeighborsClassifier\n",
    "from sklearn.naive_bayes import GaussianNB \n",
    "from sklearn.metrics import accuracy_score, classification_report\n",
    "from sklearn.metrics import precision_score, f1_score\n",
    "import time\n",
    "import matplotlib.pyplot as plt\n",
    "import seaborn as sns\n",
    "from sklearn.impute import SimpleImputer\n",
    "from sklearn.preprocessing import StandardScaler\n",
    "from sklearn.preprocessing import OneHotEncoder"
   ]
  },
  {
   "cell_type": "markdown",
   "metadata": {},
   "source": [
    "**Этап обучения для загрузки в AI модуль**"
   ]
  },
  {
   "cell_type": "code",
   "execution_count": 51,
   "metadata": {},
   "outputs": [],
   "source": [
    "data = pd.read_csv(\"dataset_sdn.csv\")\n",
    "y = data['label']\n",
    "X = data.drop('label', axis=1)\n",
    "X = pd.get_dummies(X, columns=['src', 'dst', 'Protocol'], drop_first=True)"
   ]
  },
  {
   "cell_type": "code",
   "execution_count": 52,
   "metadata": {},
   "outputs": [],
   "source": [
    "top_features = ['bytecount', 'pktcount', 'pktperflow', 'byteperflow', 'pktrate', 'tot_dur', 'dt', 'dur']\n",
    "dummy_src_columns = [col for col in X.columns if col.startswith('src_')]\n",
    "selected_features = top_features + dummy_src_columns\n",
    "X_selected = X[selected_features]"
   ]
  },
  {
   "cell_type": "code",
   "execution_count": 53,
   "metadata": {},
   "outputs": [
    {
     "data": {
      "text/html": [
       "<div>\n",
       "<style scoped>\n",
       "    .dataframe tbody tr th:only-of-type {\n",
       "        vertical-align: middle;\n",
       "    }\n",
       "\n",
       "    .dataframe tbody tr th {\n",
       "        vertical-align: top;\n",
       "    }\n",
       "\n",
       "    .dataframe thead th {\n",
       "        text-align: right;\n",
       "    }\n",
       "</style>\n",
       "<table border=\"1\" class=\"dataframe\">\n",
       "  <thead>\n",
       "    <tr style=\"text-align: right;\">\n",
       "      <th></th>\n",
       "      <th>bytecount</th>\n",
       "      <th>pktcount</th>\n",
       "      <th>pktperflow</th>\n",
       "      <th>byteperflow</th>\n",
       "      <th>pktrate</th>\n",
       "      <th>tot_dur</th>\n",
       "      <th>dt</th>\n",
       "      <th>dur</th>\n",
       "      <th>src_10.0.0.10</th>\n",
       "      <th>src_10.0.0.11</th>\n",
       "      <th>...</th>\n",
       "      <th>src_10.0.0.18</th>\n",
       "      <th>src_10.0.0.2</th>\n",
       "      <th>src_10.0.0.20</th>\n",
       "      <th>src_10.0.0.3</th>\n",
       "      <th>src_10.0.0.4</th>\n",
       "      <th>src_10.0.0.5</th>\n",
       "      <th>src_10.0.0.6</th>\n",
       "      <th>src_10.0.0.7</th>\n",
       "      <th>src_10.0.0.8</th>\n",
       "      <th>src_10.0.0.9</th>\n",
       "    </tr>\n",
       "  </thead>\n",
       "  <tbody>\n",
       "    <tr>\n",
       "      <th>0</th>\n",
       "      <td>48294064</td>\n",
       "      <td>45304</td>\n",
       "      <td>13535</td>\n",
       "      <td>14428310</td>\n",
       "      <td>451</td>\n",
       "      <td>1.010000e+11</td>\n",
       "      <td>11425</td>\n",
       "      <td>100</td>\n",
       "      <td>False</td>\n",
       "      <td>False</td>\n",
       "      <td>...</td>\n",
       "      <td>False</td>\n",
       "      <td>False</td>\n",
       "      <td>False</td>\n",
       "      <td>False</td>\n",
       "      <td>False</td>\n",
       "      <td>False</td>\n",
       "      <td>False</td>\n",
       "      <td>False</td>\n",
       "      <td>False</td>\n",
       "      <td>False</td>\n",
       "    </tr>\n",
       "    <tr>\n",
       "      <th>1</th>\n",
       "      <td>134737070</td>\n",
       "      <td>126395</td>\n",
       "      <td>13531</td>\n",
       "      <td>14424046</td>\n",
       "      <td>451</td>\n",
       "      <td>2.810000e+11</td>\n",
       "      <td>11605</td>\n",
       "      <td>280</td>\n",
       "      <td>False</td>\n",
       "      <td>False</td>\n",
       "      <td>...</td>\n",
       "      <td>False</td>\n",
       "      <td>False</td>\n",
       "      <td>False</td>\n",
       "      <td>False</td>\n",
       "      <td>False</td>\n",
       "      <td>False</td>\n",
       "      <td>False</td>\n",
       "      <td>False</td>\n",
       "      <td>False</td>\n",
       "      <td>False</td>\n",
       "    </tr>\n",
       "    <tr>\n",
       "      <th>2</th>\n",
       "      <td>96294978</td>\n",
       "      <td>90333</td>\n",
       "      <td>13534</td>\n",
       "      <td>14427244</td>\n",
       "      <td>451</td>\n",
       "      <td>2.010000e+11</td>\n",
       "      <td>11425</td>\n",
       "      <td>200</td>\n",
       "      <td>False</td>\n",
       "      <td>False</td>\n",
       "      <td>...</td>\n",
       "      <td>False</td>\n",
       "      <td>True</td>\n",
       "      <td>False</td>\n",
       "      <td>False</td>\n",
       "      <td>False</td>\n",
       "      <td>False</td>\n",
       "      <td>False</td>\n",
       "      <td>False</td>\n",
       "      <td>False</td>\n",
       "      <td>False</td>\n",
       "    </tr>\n",
       "    <tr>\n",
       "      <th>3</th>\n",
       "      <td>96294978</td>\n",
       "      <td>90333</td>\n",
       "      <td>13534</td>\n",
       "      <td>14427244</td>\n",
       "      <td>451</td>\n",
       "      <td>2.010000e+11</td>\n",
       "      <td>11425</td>\n",
       "      <td>200</td>\n",
       "      <td>False</td>\n",
       "      <td>False</td>\n",
       "      <td>...</td>\n",
       "      <td>False</td>\n",
       "      <td>True</td>\n",
       "      <td>False</td>\n",
       "      <td>False</td>\n",
       "      <td>False</td>\n",
       "      <td>False</td>\n",
       "      <td>False</td>\n",
       "      <td>False</td>\n",
       "      <td>False</td>\n",
       "      <td>False</td>\n",
       "    </tr>\n",
       "    <tr>\n",
       "      <th>4</th>\n",
       "      <td>96294978</td>\n",
       "      <td>90333</td>\n",
       "      <td>13534</td>\n",
       "      <td>14427244</td>\n",
       "      <td>451</td>\n",
       "      <td>2.010000e+11</td>\n",
       "      <td>11425</td>\n",
       "      <td>200</td>\n",
       "      <td>False</td>\n",
       "      <td>False</td>\n",
       "      <td>...</td>\n",
       "      <td>False</td>\n",
       "      <td>True</td>\n",
       "      <td>False</td>\n",
       "      <td>False</td>\n",
       "      <td>False</td>\n",
       "      <td>False</td>\n",
       "      <td>False</td>\n",
       "      <td>False</td>\n",
       "      <td>False</td>\n",
       "      <td>False</td>\n",
       "    </tr>\n",
       "  </tbody>\n",
       "</table>\n",
       "<p>5 rows × 26 columns</p>\n",
       "</div>"
      ],
      "text/plain": [
       "   bytecount  pktcount  pktperflow  byteperflow  pktrate       tot_dur     dt  \\\n",
       "0   48294064     45304       13535     14428310      451  1.010000e+11  11425   \n",
       "1  134737070    126395       13531     14424046      451  2.810000e+11  11605   \n",
       "2   96294978     90333       13534     14427244      451  2.010000e+11  11425   \n",
       "3   96294978     90333       13534     14427244      451  2.010000e+11  11425   \n",
       "4   96294978     90333       13534     14427244      451  2.010000e+11  11425   \n",
       "\n",
       "   dur  src_10.0.0.10  src_10.0.0.11  ...  src_10.0.0.18  src_10.0.0.2  \\\n",
       "0  100          False          False  ...          False         False   \n",
       "1  280          False          False  ...          False         False   \n",
       "2  200          False          False  ...          False          True   \n",
       "3  200          False          False  ...          False          True   \n",
       "4  200          False          False  ...          False          True   \n",
       "\n",
       "   src_10.0.0.20  src_10.0.0.3  src_10.0.0.4  src_10.0.0.5  src_10.0.0.6  \\\n",
       "0          False         False         False         False         False   \n",
       "1          False         False         False         False         False   \n",
       "2          False         False         False         False         False   \n",
       "3          False         False         False         False         False   \n",
       "4          False         False         False         False         False   \n",
       "\n",
       "   src_10.0.0.7  src_10.0.0.8  src_10.0.0.9  \n",
       "0         False         False         False  \n",
       "1         False         False         False  \n",
       "2         False         False         False  \n",
       "3         False         False         False  \n",
       "4         False         False         False  \n",
       "\n",
       "[5 rows x 26 columns]"
      ]
     },
     "execution_count": 53,
     "metadata": {},
     "output_type": "execute_result"
    }
   ],
   "source": [
    "X_selected.head()"
   ]
  },
  {
   "cell_type": "code",
   "execution_count": 54,
   "metadata": {},
   "outputs": [],
   "source": [
    "X_train_1, X_test_1, y_train_1, y_test_1 = train_test_split(X_selected, y, test_size=0.2, random_state=42)"
   ]
  },
  {
   "cell_type": "code",
   "execution_count": 55,
   "metadata": {},
   "outputs": [],
   "source": [
    "imputer = SimpleImputer(strategy='mean')\n",
    "X_train_1 = imputer.fit_transform(X_train_1)\n",
    "X_test_1 = imputer.transform(X_test_1)"
   ]
  },
  {
   "cell_type": "code",
   "execution_count": 56,
   "metadata": {},
   "outputs": [],
   "source": [
    "knn = KNeighborsClassifier()\n",
    "decision_tree = DecisionTreeClassifier()\n",
    "random_forest =  RandomForestClassifier()"
   ]
  },
  {
   "cell_type": "code",
   "execution_count": 57,
   "metadata": {},
   "outputs": [],
   "source": [
    "def evaluate_model(model, X_train, y_train, X_test, y_test):\n",
    "    model.fit(X_train, y_train)\n",
    "    y_pred = model.predict(X_test)\n",
    "    acc = accuracy_score(y_test, y_pred)\n",
    "    return acc"
   ]
  },
  {
   "cell_type": "code",
   "execution_count": 66,
   "metadata": {},
   "outputs": [],
   "source": [
    "models = {\n",
    "    \"Decision Tree\": decision_tree,\n",
    "    \"Random Forest\": random_forest,\n",
    "    \"K-Nearest Neighbors\": knn,\n",
    "}\n",
    "\n",
    "scaler = StandardScaler()\n",
    "X_train_1 = scaler.fit_transform(X_train_1)\n",
    "X_test_1 = scaler.transform(X_test_1)\n",
    "\n",
    "results = []\n",
    "for model_name, model in models.items():\n",
    "    start_time = time.time()\n",
    "    \n",
    "    model.fit(X_train_1, y_train_1)\n",
    "    y_pred = model.predict(X_test_1)\n",
    "    \n",
    "    accuracy = accuracy_score(y_test_1, y_pred)\n",
    "    precision = precision_score(y_test_1, y_pred, average='binary')\n",
    "    f1 = f1_score(y_test_1, y_pred, average='binary')\n",
    "    execution_time = time.time() - start_time\n",
    "    \n",
    "    results.append({\n",
    "        'Model': model_name,\n",
    "        'Accuracy': accuracy,\n",
    "        'Precision': precision,\n",
    "        'F1-score': f1,\n",
    "        'Time (s)': execution_time\n",
    "    })\n",
    "\n",
    "results_df = pd.DataFrame(results)"
   ]
  },
  {
   "cell_type": "code",
   "execution_count": 34,
   "metadata": {},
   "outputs": [
    {
     "name": "stdout",
     "output_type": "stream",
     "text": [
      "\n",
      " Таблица результатов: \n",
      "\n",
      "              Model  Accuracy  Precision  F1-score  Time (s)\n",
      "      Decision Tree  1.000000   1.000000  1.000000  0.256860\n",
      "      Random Forest  0.999856   0.999632  0.999816  5.391144\n",
      "K-Nearest Neighbors  0.998515   0.997914  0.998098  2.074784\n"
     ]
    }
   ],
   "source": [
    "print(\"\\n Таблица результатов: \\n\")\n",
    "print(results_df.to_string(index=False))"
   ]
  },
  {
   "cell_type": "markdown",
   "metadata": {},
   "source": [
    "**Этап предсказания аномальности трафика**"
   ]
  },
  {
   "cell_type": "code",
   "execution_count": 59,
   "metadata": {},
   "outputs": [],
   "source": [
    "data = pd.read_csv(\"output_dataset.csv\")\n",
    "y_TEST = data['is_attack']\n",
    "X_TEST = data.drop(['is_attack', 'attack_type', 'timestamp', 'src_host'], axis=1)\n",
    "X_TEST['Transfer_MB'] = data['Transfer'].str.extract(r'(\\d+\\.\\d+)').astype(float)\n",
    "X_TEST['Bandwidth_Mbps'] = data['Bandwidth'].str.extract(r'(\\d+\\.\\d+)').astype(float)\n",
    "X_TEST['Interval_start'] = data['Interval'].str.split('-').str[0].astype(float)\n",
    "X_TEST['Interval_end'] = data['Interval'].str.split('-').str[1].astype(float)\n",
    "X_TEST['packet_freq'] = data['packet_frequency'].str.extract(r'(\\d+\\.\\d+)').astype(float)\n",
    "X_TEST = pd.get_dummies(X_TEST, columns=['src_ip'], drop_first=True)"
   ]
  },
  {
   "cell_type": "code",
   "execution_count": 60,
   "metadata": {},
   "outputs": [],
   "source": [
    "X_TEST.rename(columns=lambda x: x.replace('src_ip_', 'src_'), inplace=True)\n",
    "extra_cols = ['Transfer_MB', 'Bandwidth_Mbps', 'Interval_start', 'Interval_end', 'packet_freq_sec']\n",
    "X_TEST.rename(columns={'duration': 'dur'}, inplace=True)\n",
    "X_TEST['dt'] = (pd.to_datetime(data['timestamp']).astype('int64') // 10**9 if 'timestamp' in data else 0)\n",
    "X_TEST['tot_dur'] = X_TEST['Interval_end']  - X_TEST['Interval_start']\n",
    "X_TEST.drop(columns=extra_cols, inplace=True, errors='ignore')\n",
    "\n",
    "X_TEST = X_TEST[X_selected.columns]"
   ]
  },
  {
   "cell_type": "code",
   "execution_count": null,
   "metadata": {},
   "outputs": [],
   "source": [
    "results1 = []\n",
    "reports = []\n",
    "X_TEST = imputer.transform(X_TEST)\n",
    "X_TEST = scaler.transform(X_TEST)\n",
    "\n",
    "for model_name, model in models.items():\n",
    "    start_time = time.time()\n",
    "    \n",
    "    y_pred = model.predict(X_TEST)\n",
    "    \n",
    "    # Расчет метрик\n",
    "    accuracy = accuracy_score(y_TEST, y_pred)\n",
    "    precision = precision_score(y_TEST, y_pred, average='binary')\n",
    "    f1 = f1_score(y_TEST, y_pred, average='binary')\n",
    "    execution_time = time.time() - start_time\n",
    "    \n",
    "    # Генерация classification report\n",
    "    cls_report = classification_report(y_TEST, y_pred)\n",
    "    \n",
    "    # Сохранение результатов\n",
    "    results1.append({\n",
    "        'Model': model_name,\n",
    "        'Accuracy': accuracy,\n",
    "        'Precision': precision,\n",
    "        'F1-score': f1,\n",
    "        'Time (s)': execution_time\n",
    "    })\n",
    "    \n",
    "    # Сохранение отчета\n",
    "    reports.append({\n",
    "        'Model': model_name,\n",
    "        'Report': cls_report\n",
    "    })\n",
    "results1_df = pd.DataFrame(results1)"
   ]
  },
  {
   "cell_type": "code",
   "execution_count": 63,
   "metadata": {},
   "outputs": [
    {
     "name": "stdout",
     "output_type": "stream",
     "text": [
      "\n",
      " Таблица результатов: \n",
      "\n",
      "              Model  Accuracy  Precision  F1-score  Time (s)\n",
      "      Decision Tree  0.760688   1.000000  0.832909  0.021002\n",
      "      Random Forest  0.815488   0.997987  0.876138  0.129006\n",
      "K-Nearest Neighbors  0.495900   0.843647  0.617625  2.984281\n"
     ]
    }
   ],
   "source": [
    "print(\"\\n Таблица результатов: \\n\")\n",
    "print(results1_df.to_string(index=False))"
   ]
  },
  {
   "cell_type": "markdown",
   "metadata": {},
   "source": [
    "**Этап обучения многоклассовой классификации**"
   ]
  },
  {
   "cell_type": "code",
   "execution_count": 71,
   "metadata": {},
   "outputs": [],
   "source": [
    "df_normal = pd.read_csv(\"Normal_data.csv\")\n",
    "df_metasploitable = pd.read_csv(\"metasploitable-2.csv\")\n",
    "df_OVS = pd.read_csv(\"OVS.csv\")"
   ]
  },
  {
   "cell_type": "code",
   "execution_count": 72,
   "metadata": {},
   "outputs": [],
   "source": [
    "df_combined = pd.concat([df_normal, df_metasploitable, df_OVS], axis=0, ignore_index=True)"
   ]
  },
  {
   "cell_type": "code",
   "execution_count": 73,
   "metadata": {},
   "outputs": [],
   "source": [
    "df_combined['Timestamp'] = pd.to_datetime(df_combined['Timestamp'], format='mixed')\n",
    "df_combined['Year'] = df_combined['Timestamp'].dt.year\n",
    "df_combined['Month'] = df_combined['Timestamp'].dt.month\n",
    "df_combined['Day'] = df_combined['Timestamp'].dt.day\n",
    "df_combined['Hour'] = df_combined['Timestamp'].dt.hour\n",
    "df_combined['Minute'] = df_combined['Timestamp'].dt.minute\n",
    "df_combined['Second'] = df_combined['Timestamp'].dt.second\n",
    "df_combined['DayOfWeek'] = df_combined['Timestamp'].dt.dayofweek\n",
    "\n",
    "df_combined = df_combined.drop(columns=['Timestamp'])"
   ]
  },
  {
   "cell_type": "code",
   "execution_count": 74,
   "metadata": {},
   "outputs": [],
   "source": [
    "df_combined['Src ip_part1'] = df_combined['Src IP'].apply(lambda x: int(x.split('.')[0]))\n",
    "df_combined['Src ip_part2'] = df_combined['Src IP'].apply(lambda x: int(x.split('.')[1]))\n",
    "df_combined['Src ip_part3'] = df_combined['Src IP'].apply(lambda x: int(x.split('.')[2]))\n",
    "df_combined['Src ip_part4'] = df_combined['Src IP'].apply(lambda x: int(x.split('.')[3]))\n",
    "\n",
    "df_combined = df_combined.drop(columns=['Src IP'])"
   ]
  },
  {
   "cell_type": "code",
   "execution_count": 75,
   "metadata": {},
   "outputs": [],
   "source": [
    "features = ['Active Max', 'Idle Std', 'Fwd Act Data Pkts', 'Active Min', 'Fwd IAT Mean', 'Src ip_part1',\n",
    "            'Src ip_part2', 'Src ip_part3', 'Src ip_part4', 'Year', 'Month', 'Day', 'Hour', 'Minute', 'Second', 'DayOfWeek']\n",
    "X = df_combined[features]\n",
    "y = df_combined[\"Label\"]"
   ]
  },
  {
   "cell_type": "code",
   "execution_count": 106,
   "metadata": {},
   "outputs": [],
   "source": [
    "X_train_2, X_test_2, y_train_2, y_test_2 = train_test_split(X, y, test_size=0.2, random_state=42)"
   ]
  },
  {
   "cell_type": "code",
   "execution_count": 107,
   "metadata": {},
   "outputs": [],
   "source": [
    "scaler = StandardScaler()\n",
    "X_train_2 = scaler.fit_transform(X_train_2)\n",
    "X_test_2 = scaler.transform(X_test_2)"
   ]
  },
  {
   "cell_type": "code",
   "execution_count": null,
   "metadata": {},
   "outputs": [],
   "source": [
    "decision_tree = DecisionTreeClassifier()\n",
    "random_forest = RandomForestClassifier()\n",
    "knn = KNeighborsClassifier()\n",
    "models = {\n",
    "    \"Decision Tree\": decision_tree,\n",
    "    \"Random Forest\": random_forest,\n",
    "    \"K-Nearest Neighbors\": knn,\n",
    "}\n",
    "results = []\n",
    "for model_name, model in models.items():\n",
    "    start_time = time.time()\n",
    "    model.fit(X_train_2, y_train_2)\n",
    "    y_pred = model.predict(X_test_2)\n",
    "    \n",
    "    accuracy = accuracy_score(y_test_2, y_pred)\n",
    "    precision = precision_score(y_test_2, y_pred, average='weighted')\n",
    "    f1 = f1_score(y_test_2, y_pred, average='weighted')\n",
    "    exec_time = time.time() - start_time\n",
    "    \n",
    "    results.append({\n",
    "        'Model': model_name,\n",
    "        'Accuracy': accuracy,\n",
    "        'Precision': precision,\n",
    "        'F1-score': f1,\n",
    "        'Time (s)': exec_time\n",
    "    })\n",
    "\n",
    "results_df = pd.DataFrame(results)\n"
   ]
  },
  {
   "cell_type": "code",
   "execution_count": 109,
   "metadata": {},
   "outputs": [
    {
     "name": "stdout",
     "output_type": "stream",
     "text": [
      "\n",
      " Таблица результатов в наборе данных InSDN:\n",
      "\n",
      "              Model  Accuracy  Precision  F1-score  Time (s)\n",
      "      Decision Tree  0.999927   0.999870  0.999898  1.494298\n",
      "      Random Forest  0.999942   0.999884  0.999913 15.920906\n",
      "K-Nearest Neighbors  0.999113   0.999059  0.999084 17.060842\n"
     ]
    }
   ],
   "source": [
    "print(\"\\n Таблица результатов в наборе данных InSDN:\\n\")\n",
    "print(results_df.to_string(index=False))"
   ]
  },
  {
   "cell_type": "markdown",
   "metadata": {},
   "source": [
    "**Этап определения вида атаки**"
   ]
  },
  {
   "cell_type": "code",
   "execution_count": 110,
   "metadata": {},
   "outputs": [],
   "source": [
    "data = pd.read_csv(\"output_dataset.csv\")\n",
    "y_TEST = data['attack_type']\n",
    "X_TEST = data.drop('is_attack', axis=1).drop(\"attack_type\", axis=1)"
   ]
  },
  {
   "cell_type": "code",
   "execution_count": 111,
   "metadata": {},
   "outputs": [],
   "source": [
    "X_TEST['Fwd Act Data Pkts'] = X_TEST['pktcount']\n",
    "\n",
    "active_max = X_TEST.groupby('src_ip')['duration'].max().rename('Active Max') #максимальную длительность потока в группе \n",
    "X_TEST = X_TEST.merge(active_max, on='src_ip', how='left')\n",
    "\n",
    "active_min = X_TEST.groupby('src_ip')['duration'].min().rename('Active Min')\n",
    "X_TEST = X_TEST.merge(active_min, on='src_ip', how='left')\n",
    "\n",
    "\n",
    "X_TEST['Interval_start'] = X_TEST['Interval'].str.split('-').str[0].astype(float)\n",
    "X_TEST['Interval_end'] = X_TEST['Interval'].str.split('-').str[1].astype(float)\n",
    "X_TEST['Idle Time'] = X_TEST.groupby('src_ip')['Interval_start'].diff()  # время между потоками\n",
    "idle_std = X_TEST.groupby('src_ip')['Idle Time'].std().rename('Idle Std')\n",
    "X_TEST = X_TEST.merge(idle_std, on='src_ip', how='left')\n",
    "\n",
    "X_TEST['Fwd IAT Mean'] = X_TEST['packet_frequency'].str.extract(r'(\\d+\\.\\d+)').astype(float)\n"
   ]
  },
  {
   "cell_type": "code",
   "execution_count": 112,
   "metadata": {},
   "outputs": [],
   "source": [
    "X_TEST['timestamp'] = pd.to_datetime(X_TEST['timestamp'], format='mixed')\n",
    "X_TEST['Year'] = X_TEST['timestamp'].dt.year\n",
    "X_TEST['Month'] = X_TEST['timestamp'].dt.month\n",
    "X_TEST['Day'] = X_TEST['timestamp'].dt.day\n",
    "X_TEST['Hour'] = X_TEST['timestamp'].dt.hour\n",
    "X_TEST['Minute'] = X_TEST['timestamp'].dt.minute\n",
    "X_TEST['Second'] = X_TEST['timestamp'].dt.second\n",
    "X_TEST['DayOfWeek'] = X_TEST['timestamp'].dt.dayofweek\n",
    "\n",
    "X_TEST['Src ip_part1'] = X_TEST['src_ip'].apply(lambda x: int(x.split('.')[0]))\n",
    "X_TEST['Src ip_part2'] = X_TEST['src_ip'].apply(lambda x: int(x.split('.')[1]))\n",
    "X_TEST['Src ip_part3'] = X_TEST['src_ip'].apply(lambda x: int(x.split('.')[2]))\n",
    "X_TEST['Src ip_part4'] = X_TEST['src_ip'].apply(lambda x: int(x.split('.')[3]))\n",
    "\n",
    "columns_to_drop = [\n",
    "    'timestamp', 'src_host', 'src_mac', 'dst_host', 'dst_ip','Interval', 'Transfer', 'Bandwidth', \n",
    "    'packet_frequency', 'src_ip', 'Interval_start',\n",
    "    'Interval_end', 'Idle Time', 'duration', 'attackers_count', 'bytecount', 'pktcount', 'pktperflow',\n",
    "       'byteperflow', 'pktrate'\n",
    "]\n",
    "X_TEST = X_TEST.drop(columns=[col for col in columns_to_drop if col in X_TEST.columns])"
   ]
  },
  {
   "cell_type": "code",
   "execution_count": 113,
   "metadata": {},
   "outputs": [],
   "source": [
    "imputer = SimpleImputer(strategy='mean')\n",
    "X_TEST_imputed = imputer.fit_transform(X_TEST)\n",
    "X_TEST_imputed = scaler.fit_transform(X_TEST_imputed)"
   ]
  },
  {
   "cell_type": "code",
   "execution_count": 114,
   "metadata": {},
   "outputs": [],
   "source": [
    "label_mapping = {\n",
    "    'ddos-udp': 'DDoS',\n",
    "    'ddos-icmp': 'DDoS',\n",
    "    'ddos-syn': 'DDoS',\n",
    "    'ddos-http': 'DDoS',\n",
    "    'normal': 'Normal'\n",
    "}\n",
    "\n",
    "y_TEST_mapped = y_TEST.map(label_mapping)"
   ]
  },
  {
   "cell_type": "code",
   "execution_count": null,
   "metadata": {},
   "outputs": [],
   "source": [
    "results2 = []\n",
    "for model_name, model in models.items():\n",
    "    \n",
    "    start_time = time.time()\n",
    "    y_pred = model.predict(X_TEST_imputed)\n",
    "    accuracy = accuracy_score(y_TEST_mapped, y_pred)\n",
    "    precision = precision_score(y_TEST_mapped, y_pred, average='weighted')\n",
    "    f1 = f1_score(y_TEST_mapped, y_pred, average='weighted')\n",
    "    exec_time = time.time() - start_time\n",
    "\n",
    "    results2.append({\n",
    "            'Model': model_name,\n",
    "            'Accuracy': accuracy,\n",
    "            'Precision': precision,\n",
    "            'F1-score': f1,\n",
    "            'Time (s)': exec_time\n",
    "        })\n",
    "\n",
    "results2_df = pd.DataFrame(results2)"
   ]
  },
  {
   "cell_type": "code",
   "execution_count": null,
   "metadata": {},
   "outputs": [
    {
     "name": "stdout",
     "output_type": "stream",
     "text": [
      "\n",
      " Таблица результатов в наборе данных InSDN:\n",
      "\n",
      "              Model  Accuracy  Precision  F1-score  Time (s)\n",
      "      Decision Tree  0.901299   0.901531  0.901316  0.216338\n",
      "      Random Forest  0.799055   0.799330  0.799080  5.506018\n",
      "K-Nearest Neighbors  0.477645   0.481441  0.475325  0.219387\n"
     ]
    }
   ],
   "source": [
    "print(\"\\n Таблица результатов в наборе данных InSDN:\\n\")\n",
    "print(results2_df.to_string(index=False))"
   ]
  },
  {
   "cell_type": "markdown",
   "metadata": {},
   "source": [
    "***Этап обучения на новых данных***"
   ]
  },
  {
   "cell_type": "code",
   "execution_count": 125,
   "metadata": {},
   "outputs": [],
   "source": [
    "data = pd.read_csv(\"output_dataset.csv\")\n",
    "y_TEST = data['is_attack']\n",
    "X_TEST = data.drop(['is_attack', 'attack_type', 'timestamp', 'src_host'], axis=1)\n",
    "X_TEST['Transfer_MB'] = data['Transfer'].str.extract(r'(\\d+\\.\\d+)').astype(float)\n",
    "X_TEST['Bandwidth_Mbps'] = data['Bandwidth'].str.extract(r'(\\d+\\.\\d+)').astype(float)\n",
    "X_TEST['Interval_start'] = data['Interval'].str.split('-').str[0].astype(float)\n",
    "X_TEST['Interval_end'] = data['Interval'].str.split('-').str[1].astype(float)\n",
    "X_TEST['packet_freq'] = data['packet_frequency'].str.extract(r'(\\d+\\.\\d+)').astype(float)\n",
    "X_TEST = pd.get_dummies(X_TEST, columns=['src_ip'], drop_first=True)\n",
    "X_TEST.rename(columns=lambda x: x.replace('src_ip_', 'src_'), inplace=True)\n",
    "extra_cols = ['Transfer_MB', 'Bandwidth_Mbps', 'Interval_start', 'Interval_end', 'packet_freq_sec']\n",
    "X_TEST.rename(columns={'duration': 'dur'}, inplace=True)\n",
    "X_TEST['dt'] = (pd.to_datetime(data['timestamp']).astype('int64') // 10**9 if 'timestamp' in data else 0)\n",
    "X_TEST['tot_dur'] = X_TEST['Interval_end']  - X_TEST['Interval_start']\n",
    "X_TEST.drop(columns=extra_cols, inplace=True, errors='ignore')\n",
    "\n",
    "X_TEST = X_TEST[X_selected.columns]\n"
   ]
  },
  {
   "cell_type": "code",
   "execution_count": 127,
   "metadata": {},
   "outputs": [],
   "source": [
    "X_train_3, X_test_3, y_train_3, y_test_3 = train_test_split(X_TEST, y_TEST, test_size=0.2, random_state=42)"
   ]
  },
  {
   "cell_type": "code",
   "execution_count": null,
   "metadata": {},
   "outputs": [],
   "source": [
    "from sklearn.tree import DecisionTreeClassifier\n",
    "from sklearn.model_selection import GridSearchCV\n",
    "\n",
    "params = {\n",
    "    'max_depth': [3, 5, 7, 10, 15, None],\n",
    "    'min_samples_split': [2, 5, 10],\n",
    "    'min_samples_leaf': [1, 2, 4],\n",
    "    'criterion': ['gini', 'entropy'],\n",
    "    'max_features': ['sqrt', 'log2', None]\n",
    "}\n",
    "\n",
    "dt = DecisionTreeClassifier()\n",
    "grid_search = GridSearchCV(dt, params, cv=5, scoring='f1_weighted')\n",
    "grid_search.fit(X_train_3, y_train_3)\n",
    "\n",
    "best_dt = grid_search.best_estimator_"
   ]
  },
  {
   "cell_type": "code",
   "execution_count": 130,
   "metadata": {},
   "outputs": [
    {
     "data": {
      "text/html": [
       "<style>#sk-container-id-2 {color: black;}#sk-container-id-2 pre{padding: 0;}#sk-container-id-2 div.sk-toggleable {background-color: white;}#sk-container-id-2 label.sk-toggleable__label {cursor: pointer;display: block;width: 100%;margin-bottom: 0;padding: 0.3em;box-sizing: border-box;text-align: center;}#sk-container-id-2 label.sk-toggleable__label-arrow:before {content: \"▸\";float: left;margin-right: 0.25em;color: #696969;}#sk-container-id-2 label.sk-toggleable__label-arrow:hover:before {color: black;}#sk-container-id-2 div.sk-estimator:hover label.sk-toggleable__label-arrow:before {color: black;}#sk-container-id-2 div.sk-toggleable__content {max-height: 0;max-width: 0;overflow: hidden;text-align: left;background-color: #f0f8ff;}#sk-container-id-2 div.sk-toggleable__content pre {margin: 0.2em;color: black;border-radius: 0.25em;background-color: #f0f8ff;}#sk-container-id-2 input.sk-toggleable__control:checked~div.sk-toggleable__content {max-height: 200px;max-width: 100%;overflow: auto;}#sk-container-id-2 input.sk-toggleable__control:checked~label.sk-toggleable__label-arrow:before {content: \"▾\";}#sk-container-id-2 div.sk-estimator input.sk-toggleable__control:checked~label.sk-toggleable__label {background-color: #d4ebff;}#sk-container-id-2 div.sk-label input.sk-toggleable__control:checked~label.sk-toggleable__label {background-color: #d4ebff;}#sk-container-id-2 input.sk-hidden--visually {border: 0;clip: rect(1px 1px 1px 1px);clip: rect(1px, 1px, 1px, 1px);height: 1px;margin: -1px;overflow: hidden;padding: 0;position: absolute;width: 1px;}#sk-container-id-2 div.sk-estimator {font-family: monospace;background-color: #f0f8ff;border: 1px dotted black;border-radius: 0.25em;box-sizing: border-box;margin-bottom: 0.5em;}#sk-container-id-2 div.sk-estimator:hover {background-color: #d4ebff;}#sk-container-id-2 div.sk-parallel-item::after {content: \"\";width: 100%;border-bottom: 1px solid gray;flex-grow: 1;}#sk-container-id-2 div.sk-label:hover label.sk-toggleable__label {background-color: #d4ebff;}#sk-container-id-2 div.sk-serial::before {content: \"\";position: absolute;border-left: 1px solid gray;box-sizing: border-box;top: 0;bottom: 0;left: 50%;z-index: 0;}#sk-container-id-2 div.sk-serial {display: flex;flex-direction: column;align-items: center;background-color: white;padding-right: 0.2em;padding-left: 0.2em;position: relative;}#sk-container-id-2 div.sk-item {position: relative;z-index: 1;}#sk-container-id-2 div.sk-parallel {display: flex;align-items: stretch;justify-content: center;background-color: white;position: relative;}#sk-container-id-2 div.sk-item::before, #sk-container-id-2 div.sk-parallel-item::before {content: \"\";position: absolute;border-left: 1px solid gray;box-sizing: border-box;top: 0;bottom: 0;left: 50%;z-index: -1;}#sk-container-id-2 div.sk-parallel-item {display: flex;flex-direction: column;z-index: 1;position: relative;background-color: white;}#sk-container-id-2 div.sk-parallel-item:first-child::after {align-self: flex-end;width: 50%;}#sk-container-id-2 div.sk-parallel-item:last-child::after {align-self: flex-start;width: 50%;}#sk-container-id-2 div.sk-parallel-item:only-child::after {width: 0;}#sk-container-id-2 div.sk-dashed-wrapped {border: 1px dashed gray;margin: 0 0.4em 0.5em 0.4em;box-sizing: border-box;padding-bottom: 0.4em;background-color: white;}#sk-container-id-2 div.sk-label label {font-family: monospace;font-weight: bold;display: inline-block;line-height: 1.2em;}#sk-container-id-2 div.sk-label-container {text-align: center;}#sk-container-id-2 div.sk-container {/* jupyter's `normalize.less` sets `[hidden] { display: none; }` but bootstrap.min.css set `[hidden] { display: none !important; }` so we also need the `!important` here to be able to override the default hidden behavior on the sphinx rendered scikit-learn.org. See: https://github.com/scikit-learn/scikit-learn/issues/21755 */display: inline-block !important;position: relative;}#sk-container-id-2 div.sk-text-repr-fallback {display: none;}</style><div id=\"sk-container-id-2\" class=\"sk-top-container\"><div class=\"sk-text-repr-fallback\"><pre>DecisionTreeClassifier(max_depth=3)</pre><b>In a Jupyter environment, please rerun this cell to show the HTML representation or trust the notebook. <br />On GitHub, the HTML representation is unable to render, please try loading this page with nbviewer.org.</b></div><div class=\"sk-container\" hidden><div class=\"sk-item\"><div class=\"sk-estimator sk-toggleable\"><input class=\"sk-toggleable__control sk-hidden--visually\" id=\"sk-estimator-id-2\" type=\"checkbox\" checked><label for=\"sk-estimator-id-2\" class=\"sk-toggleable__label sk-toggleable__label-arrow\">DecisionTreeClassifier</label><div class=\"sk-toggleable__content\"><pre>DecisionTreeClassifier(max_depth=3)</pre></div></div></div></div></div>"
      ],
      "text/plain": [
       "DecisionTreeClassifier(max_depth=3)"
      ]
     },
     "execution_count": 130,
     "metadata": {},
     "output_type": "execute_result"
    }
   ],
   "source": [
    "best_dt"
   ]
  },
  {
   "cell_type": "code",
   "execution_count": 131,
   "metadata": {},
   "outputs": [],
   "source": [
    "data = pd.read_csv(\"output_dataset.csv\")\n",
    "y_TEST = data['attack_type']\n",
    "X_TEST = data.drop('is_attack', axis=1).drop(\"attack_type\", axis=1)\n",
    "X_TEST['Fwd Act Data Pkts'] = X_TEST['pktcount']\n",
    "\n",
    "active_max = X_TEST.groupby('src_ip')['duration'].max().rename('Active Max') #максимальную длительность потока в группе \n",
    "X_TEST = X_TEST.merge(active_max, on='src_ip', how='left')\n",
    "\n",
    "active_min = X_TEST.groupby('src_ip')['duration'].min().rename('Active Min')\n",
    "X_TEST = X_TEST.merge(active_min, on='src_ip', how='left')\n",
    "\n",
    "\n",
    "X_TEST['Interval_start'] = X_TEST['Interval'].str.split('-').str[0].astype(float)\n",
    "X_TEST['Interval_end'] = X_TEST['Interval'].str.split('-').str[1].astype(float)\n",
    "X_TEST['Idle Time'] = X_TEST.groupby('src_ip')['Interval_start'].diff()  # время между потоками\n",
    "idle_std = X_TEST.groupby('src_ip')['Idle Time'].std().rename('Idle Std')\n",
    "X_TEST = X_TEST.merge(idle_std, on='src_ip', how='left')\n",
    "\n",
    "X_TEST['Fwd IAT Mean'] = X_TEST['packet_frequency'].str.extract(r'(\\d+\\.\\d+)').astype(float)\n",
    "\n",
    "X_TEST['timestamp'] = pd.to_datetime(X_TEST['timestamp'], format='mixed')\n",
    "X_TEST['Year'] = X_TEST['timestamp'].dt.year\n",
    "X_TEST['Month'] = X_TEST['timestamp'].dt.month\n",
    "X_TEST['Day'] = X_TEST['timestamp'].dt.day\n",
    "X_TEST['Hour'] = X_TEST['timestamp'].dt.hour\n",
    "X_TEST['Minute'] = X_TEST['timestamp'].dt.minute\n",
    "X_TEST['Second'] = X_TEST['timestamp'].dt.second\n",
    "X_TEST['DayOfWeek'] = X_TEST['timestamp'].dt.dayofweek\n",
    "\n",
    "X_TEST['Src ip_part1'] = X_TEST['src_ip'].apply(lambda x: int(x.split('.')[0]))\n",
    "X_TEST['Src ip_part2'] = X_TEST['src_ip'].apply(lambda x: int(x.split('.')[1]))\n",
    "X_TEST['Src ip_part3'] = X_TEST['src_ip'].apply(lambda x: int(x.split('.')[2]))\n",
    "X_TEST['Src ip_part4'] = X_TEST['src_ip'].apply(lambda x: int(x.split('.')[3]))\n",
    "\n",
    "columns_to_drop = [\n",
    "    'timestamp', 'src_host', 'src_mac', 'dst_host', 'dst_ip','Interval', 'Transfer', 'Bandwidth', \n",
    "    'packet_frequency', 'src_ip', 'Interval_start',\n",
    "    'Interval_end', 'Idle Time', 'duration', 'attackers_count', 'bytecount', 'pktcount', 'pktperflow',\n",
    "       'byteperflow', 'pktrate'\n",
    "]\n",
    "X_TEST = X_TEST.drop(columns=[col for col in columns_to_drop if col in X_TEST.columns])"
   ]
  },
  {
   "cell_type": "code",
   "execution_count": 132,
   "metadata": {},
   "outputs": [],
   "source": [
    "imputer = SimpleImputer(strategy='mean')\n",
    "X_TEST_imputed = imputer.fit_transform(X_TEST)\n",
    "X_TEST_imputed = scaler.fit_transform(X_TEST_imputed)"
   ]
  },
  {
   "cell_type": "code",
   "execution_count": 133,
   "metadata": {},
   "outputs": [],
   "source": [
    "X_train_4, X_test_4, y_train_4, y_test_4 = train_test_split(X_TEST_imputed, y_TEST, test_size=0.2, random_state=42)"
   ]
  },
  {
   "cell_type": "code",
   "execution_count": 134,
   "metadata": {},
   "outputs": [],
   "source": [
    "from sklearn.tree import DecisionTreeClassifier\n",
    "from sklearn.model_selection import GridSearchCV\n",
    "\n",
    "params = {\n",
    "    'max_depth': [3, 5, 7, 10, 15, None],\n",
    "    'min_samples_split': [2, 5, 10],\n",
    "    'min_samples_leaf': [1, 2, 4],\n",
    "    'criterion': ['gini', 'entropy'],\n",
    "    'max_features': ['sqrt', 'log2', None]\n",
    "}\n",
    "\n",
    "dt_mclass = DecisionTreeClassifier()\n",
    "grid_search_mclass = GridSearchCV(dt_mclass, params, cv=5, scoring='f1_weighted')\n",
    "grid_search_mclass.fit(X_train_4, y_train_4)\n",
    "\n",
    "best_dt_mclass = grid_search.best_estimator_"
   ]
  },
  {
   "cell_type": "code",
   "execution_count": 135,
   "metadata": {},
   "outputs": [
    {
     "data": {
      "text/html": [
       "<style>#sk-container-id-3 {color: black;}#sk-container-id-3 pre{padding: 0;}#sk-container-id-3 div.sk-toggleable {background-color: white;}#sk-container-id-3 label.sk-toggleable__label {cursor: pointer;display: block;width: 100%;margin-bottom: 0;padding: 0.3em;box-sizing: border-box;text-align: center;}#sk-container-id-3 label.sk-toggleable__label-arrow:before {content: \"▸\";float: left;margin-right: 0.25em;color: #696969;}#sk-container-id-3 label.sk-toggleable__label-arrow:hover:before {color: black;}#sk-container-id-3 div.sk-estimator:hover label.sk-toggleable__label-arrow:before {color: black;}#sk-container-id-3 div.sk-toggleable__content {max-height: 0;max-width: 0;overflow: hidden;text-align: left;background-color: #f0f8ff;}#sk-container-id-3 div.sk-toggleable__content pre {margin: 0.2em;color: black;border-radius: 0.25em;background-color: #f0f8ff;}#sk-container-id-3 input.sk-toggleable__control:checked~div.sk-toggleable__content {max-height: 200px;max-width: 100%;overflow: auto;}#sk-container-id-3 input.sk-toggleable__control:checked~label.sk-toggleable__label-arrow:before {content: \"▾\";}#sk-container-id-3 div.sk-estimator input.sk-toggleable__control:checked~label.sk-toggleable__label {background-color: #d4ebff;}#sk-container-id-3 div.sk-label input.sk-toggleable__control:checked~label.sk-toggleable__label {background-color: #d4ebff;}#sk-container-id-3 input.sk-hidden--visually {border: 0;clip: rect(1px 1px 1px 1px);clip: rect(1px, 1px, 1px, 1px);height: 1px;margin: -1px;overflow: hidden;padding: 0;position: absolute;width: 1px;}#sk-container-id-3 div.sk-estimator {font-family: monospace;background-color: #f0f8ff;border: 1px dotted black;border-radius: 0.25em;box-sizing: border-box;margin-bottom: 0.5em;}#sk-container-id-3 div.sk-estimator:hover {background-color: #d4ebff;}#sk-container-id-3 div.sk-parallel-item::after {content: \"\";width: 100%;border-bottom: 1px solid gray;flex-grow: 1;}#sk-container-id-3 div.sk-label:hover label.sk-toggleable__label {background-color: #d4ebff;}#sk-container-id-3 div.sk-serial::before {content: \"\";position: absolute;border-left: 1px solid gray;box-sizing: border-box;top: 0;bottom: 0;left: 50%;z-index: 0;}#sk-container-id-3 div.sk-serial {display: flex;flex-direction: column;align-items: center;background-color: white;padding-right: 0.2em;padding-left: 0.2em;position: relative;}#sk-container-id-3 div.sk-item {position: relative;z-index: 1;}#sk-container-id-3 div.sk-parallel {display: flex;align-items: stretch;justify-content: center;background-color: white;position: relative;}#sk-container-id-3 div.sk-item::before, #sk-container-id-3 div.sk-parallel-item::before {content: \"\";position: absolute;border-left: 1px solid gray;box-sizing: border-box;top: 0;bottom: 0;left: 50%;z-index: -1;}#sk-container-id-3 div.sk-parallel-item {display: flex;flex-direction: column;z-index: 1;position: relative;background-color: white;}#sk-container-id-3 div.sk-parallel-item:first-child::after {align-self: flex-end;width: 50%;}#sk-container-id-3 div.sk-parallel-item:last-child::after {align-self: flex-start;width: 50%;}#sk-container-id-3 div.sk-parallel-item:only-child::after {width: 0;}#sk-container-id-3 div.sk-dashed-wrapped {border: 1px dashed gray;margin: 0 0.4em 0.5em 0.4em;box-sizing: border-box;padding-bottom: 0.4em;background-color: white;}#sk-container-id-3 div.sk-label label {font-family: monospace;font-weight: bold;display: inline-block;line-height: 1.2em;}#sk-container-id-3 div.sk-label-container {text-align: center;}#sk-container-id-3 div.sk-container {/* jupyter's `normalize.less` sets `[hidden] { display: none; }` but bootstrap.min.css set `[hidden] { display: none !important; }` so we also need the `!important` here to be able to override the default hidden behavior on the sphinx rendered scikit-learn.org. See: https://github.com/scikit-learn/scikit-learn/issues/21755 */display: inline-block !important;position: relative;}#sk-container-id-3 div.sk-text-repr-fallback {display: none;}</style><div id=\"sk-container-id-3\" class=\"sk-top-container\"><div class=\"sk-text-repr-fallback\"><pre>DecisionTreeClassifier(max_depth=3)</pre><b>In a Jupyter environment, please rerun this cell to show the HTML representation or trust the notebook. <br />On GitHub, the HTML representation is unable to render, please try loading this page with nbviewer.org.</b></div><div class=\"sk-container\" hidden><div class=\"sk-item\"><div class=\"sk-estimator sk-toggleable\"><input class=\"sk-toggleable__control sk-hidden--visually\" id=\"sk-estimator-id-3\" type=\"checkbox\" checked><label for=\"sk-estimator-id-3\" class=\"sk-toggleable__label sk-toggleable__label-arrow\">DecisionTreeClassifier</label><div class=\"sk-toggleable__content\"><pre>DecisionTreeClassifier(max_depth=3)</pre></div></div></div></div></div>"
      ],
      "text/plain": [
       "DecisionTreeClassifier(max_depth=3)"
      ]
     },
     "execution_count": 135,
     "metadata": {},
     "output_type": "execute_result"
    }
   ],
   "source": [
    "best_dt_mclass"
   ]
  }
 ],
 "metadata": {
  "kernelspec": {
   "display_name": "conda_env_24_25",
   "language": "python",
   "name": "python3"
  },
  "language_info": {
   "codemirror_mode": {
    "name": "ipython",
    "version": 3
   },
   "file_extension": ".py",
   "mimetype": "text/x-python",
   "name": "python",
   "nbconvert_exporter": "python",
   "pygments_lexer": "ipython3",
   "version": "3.10.15"
  }
 },
 "nbformat": 4,
 "nbformat_minor": 2
}
